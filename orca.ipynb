{
 "cells": [
  {
   "cell_type": "markdown",
   "id": "39b7c144",
   "metadata": {},
   "source": [
    "## Random number generation using boson sampling"
   ]
  },
  {
   "cell_type": "code",
   "execution_count": 3,
   "id": "1ef5bf2e",
   "metadata": {},
   "outputs": [],
   "source": [
    "import numpy as np\n",
    "import strawberryfields as sf\n",
    "from strawberryfields import ops\n",
    "from strawberryfields.ops import *\n",
    "from numpy.linalg import multi_dot\n",
    "from scipy.linalg import block_diag\n",
    "from thewalrus import perm"
   ]
  },
  {
   "cell_type": "code",
   "execution_count": 4,
   "id": "44a6ed42",
   "metadata": {},
   "outputs": [],
   "source": [
    "np.random.seed(42)"
   ]
  },
  {
   "cell_type": "code",
   "execution_count": 5,
   "id": "18bc62f2",
   "metadata": {},
   "outputs": [
    {
     "name": "stdout",
     "output_type": "stream",
     "text": [
      "Fock(1) | (q[0])\n",
      "Fock(1) | (q[1])\n",
      "Vac | (q[2])\n",
      "Fock(1) | (q[3])\n",
      "Rgate(0.5719) | (q[0])\n",
      "Rgate(-1.978) | (q[1])\n",
      "Rgate(2.06) | (q[2])\n",
      "Rgate(0.0644) | (q[3])\n",
      "BSgate(0.7804, 0.8578) | (q[0], q[1])\n",
      "BSgate(0.06406, 0.5165) | (q[2], q[3])\n",
      "BSgate(0.473, 0.1176) | (q[1], q[2])\n",
      "BSgate(0.563, 0.1517) | (q[0], q[1])\n",
      "BSgate(0.1323, 0.9946) | (q[2], q[3])\n",
      "BSgate(0.311, 0.3231) | (q[1], q[2])\n",
      "BSgate(0.4348, 0.0798) | (q[0], q[1])\n",
      "BSgate(0.4368, 0.6157) | (q[2], q[3])\n"
     ]
    }
   ],
   "source": [
    "boson_sampling = sf.Program(4)\n",
    "\n",
    "with boson_sampling.context as q:\n",
    "    # prepare the input fock states\n",
    "    Fock(1) | q[0]\n",
    "    Fock(1) | q[1]\n",
    "    Vac     | q[2]\n",
    "    Fock(1) | q[3]\n",
    "\n",
    "    # rotation gates\n",
    "    Rgate(0.5719)  | q[0]\n",
    "    Rgate(-1.9782) | q[1]\n",
    "    Rgate(2.0603)  | q[2]\n",
    "    Rgate(0.0644)  | q[3]\n",
    "\n",
    "    # beamsplitter array\n",
    "    BSgate(0.7804, 0.8578)  | (q[0], q[1])\n",
    "    BSgate(0.06406, 0.5165) | (q[2], q[3])\n",
    "    BSgate(0.473, 0.1176)   | (q[1], q[2])\n",
    "    BSgate(0.563, 0.1517)   | (q[0], q[1])\n",
    "    BSgate(0.1323, 0.9946)  | (q[2], q[3])\n",
    "    BSgate(0.311, 0.3231)   | (q[1], q[2])\n",
    "    BSgate(0.4348, 0.0798)  | (q[0], q[1])\n",
    "    BSgate(0.4368, 0.6157)  | (q[2], q[3])\n",
    "    \n",
    "boson_sampling.print()"
   ]
  },
  {
   "cell_type": "code",
   "execution_count": 6,
   "id": "09685252",
   "metadata": {},
   "outputs": [
    {
     "data": {
      "text/plain": [
       "strawberryfields.circuitdrawer.Circuit"
      ]
     },
     "execution_count": 6,
     "metadata": {},
     "output_type": "execute_result"
    }
   ],
   "source": [
    "sf.circuitdrawer.Circuit"
   ]
  },
  {
   "cell_type": "code",
   "execution_count": 57,
   "id": "94d9391b",
   "metadata": {},
   "outputs": [],
   "source": [
    "#MeasureFock() | q[1]"
   ]
  },
  {
   "cell_type": "code",
   "execution_count": 7,
   "id": "7bb4df75",
   "metadata": {},
   "outputs": [],
   "source": [
    "eng = sf.Engine(backend=\"fock\", backend_options={\"cutoff_dim\": 7})"
   ]
  },
  {
   "cell_type": "code",
   "execution_count": 8,
   "id": "c01d08c0",
   "metadata": {},
   "outputs": [],
   "source": [
    "results = eng.run(boson_sampling)"
   ]
  },
  {
   "cell_type": "code",
   "execution_count": 9,
   "id": "09d81c60",
   "metadata": {},
   "outputs": [
    {
     "name": "stdout",
     "output_type": "stream",
     "text": [
      "0.17468916048563934\n",
      "0.10644192724642337\n",
      "0.0\n"
     ]
    }
   ],
   "source": [
    "# extract the joint Fock probabilities\n",
    "probs = results.state.all_fock_probs()\n",
    "\n",
    "# print the joint Fock state probabilities\n",
    "print(probs[1, 1, 0, 1])\n",
    "print(probs[2, 0, 0, 1])\n",
    "print(probs[2, 1, 1, 1])"
   ]
  },
  {
   "cell_type": "code",
   "execution_count": 10,
   "id": "978bd332",
   "metadata": {},
   "outputs": [],
   "source": [
    "Uphase = np.diag([np.exp(0.5719*1j),np.exp(-1.9782*1j),np.exp(2.0603*1j),np.exp(0.0644*1j)])"
   ]
  },
  {
   "cell_type": "code",
   "execution_count": 11,
   "id": "16a47c48",
   "metadata": {},
   "outputs": [
    {
     "name": "stdout",
     "output_type": "stream",
     "text": [
      "[[ 0.84087416+0.54123069j  0.        +0.j          0.        +0.j\n",
      "   0.        +0.j        ]\n",
      " [ 0.        +0.j         -0.39622684-0.91815265j  0.        +0.j\n",
      "   0.        +0.j        ]\n",
      " [ 0.        +0.j          0.        +0.j         -0.4701879 +0.88256633j\n",
      "   0.        +0.j        ]\n",
      " [ 0.        +0.j          0.        +0.j          0.        +0.j\n",
      "   0.99792704+0.06435549j]]\n"
     ]
    }
   ],
   "source": [
    "print(Uphase)"
   ]
  },
  {
   "cell_type": "code",
   "execution_count": 12,
   "id": "a83b613d",
   "metadata": {},
   "outputs": [],
   "source": [
    "BSargs = [\n",
    "    (0.7804, 0.8578),\n",
    "    (0.06406, 0.5165),\n",
    "    (0.473, 0.1176),\n",
    "    (0.563, 0.1517),\n",
    "    (0.1323, 0.9946),\n",
    "    (0.311, 0.3231),\n",
    "    (0.4348, 0.0798),\n",
    "    (0.4368, 0.6157)\n",
    "]"
   ]
  },
  {
   "cell_type": "code",
   "execution_count": 13,
   "id": "e3dead54",
   "metadata": {},
   "outputs": [],
   "source": [
    "t_r_amplitudes = [(np.cos(q), np.exp(p*1j)*np.sin(q)) for q,p in BSargs]\n",
    "BSunitaries = [np.array([[t, -np.conj(r)], [r, t]]) for t,r in t_r_amplitudes]"
   ]
  },
  {
   "cell_type": "code",
   "execution_count": 14,
   "id": "334bbb8e",
   "metadata": {},
   "outputs": [],
   "source": [
    "UBS1 = block_diag(*BSunitaries[0:2])\n",
    "UBS2 = block_diag([[1]], BSunitaries[2], [[1]])\n",
    "UBS3 = block_diag(*BSunitaries[3:5])\n",
    "UBS4 = block_diag([[1]], BSunitaries[5], [[1]])\n",
    "UBS5 = block_diag(*BSunitaries[6:8])"
   ]
  },
  {
   "cell_type": "code",
   "execution_count": 15,
   "id": "6ea87156",
   "metadata": {},
   "outputs": [
    {
     "name": "stdout",
     "output_type": "stream",
     "text": [
      "[[ 0.2195-0.2565j  0.6111+0.5242j -0.1027+0.4745j -0.0273+0.0373j]\n",
      " [ 0.4513+0.6026j  0.457 +0.0123j  0.1316-0.4504j  0.0353-0.0532j]\n",
      " [ 0.0387+0.4927j -0.0192-0.3218j -0.2408+0.5244j -0.4584+0.3296j]\n",
      " [-0.1566+0.2246j  0.11  -0.1638j -0.4212+0.1836j  0.8188+0.068j ]]\n"
     ]
    }
   ],
   "source": [
    "U = multi_dot([UBS5, UBS4, UBS3, UBS2, UBS1, Uphase])\n",
    "print(np.round(U, 4))"
   ]
  },
  {
   "cell_type": "code",
   "execution_count": 16,
   "id": "bad0cefc",
   "metadata": {},
   "outputs": [
    {
     "name": "stdout",
     "output_type": "stream",
     "text": [
      "GaussianTransform([[ 0.2195  0.6111 -0.1027 -0.0273  0.2565 -0.5242 -0.4745 -0.0373]\n",
      " [ 0.4513  0.457   0.1316  0.0353 -0.6026 -0.0123  0.4504  0.0532]\n",
      " [ 0.0387 -0.0192 -0.2408 -0.4584 -0.4927  0.3218 -0.5244 -0.3296]\n",
      " [-0.1566  0.11   -0.4212  0.8188 -0.2246  0.1638 -0.1836 -0.068 ]\n",
      " [-0.2565  0.5242  0.4745  0.0373  0.2195  0.6111 -0.1027 -0.0273]\n",
      " [ 0.6026  0.0123 -0.4504 -0.0532  0.4513  0.457   0.1316  0.0353]\n",
      " [ 0.4927 -0.3218  0.5244  0.3296  0.0387 -0.0192 -0.2408 -0.4584]\n",
      " [ 0.2246 -0.1638  0.1836  0.068  -0.1566  0.11   -0.4212  0.8188]]) | (q[0], q[1], q[2], q[3])\n"
     ]
    }
   ],
   "source": [
    "prog_unitary = sf.Program(4)\n",
    "prog_unitary.circuit = boson_sampling.circuit[4:]\n",
    "prog_compiled = prog_unitary.compile(compiler=\"gaussian_unitary\")\n",
    "prog_compiled.print()"
   ]
  },
  {
   "cell_type": "code",
   "execution_count": 17,
   "id": "6835913d",
   "metadata": {},
   "outputs": [
    {
     "name": "stdout",
     "output_type": "stream",
     "text": [
      "[[ 0.2195-0.2565j  0.6111+0.5242j -0.1027+0.4745j -0.0273+0.0373j]\n",
      " [ 0.4513+0.6026j  0.457 +0.0123j  0.1316-0.4504j  0.0353-0.0532j]\n",
      " [ 0.0387+0.4927j -0.0192-0.3218j -0.2408+0.5244j -0.4584+0.3296j]\n",
      " [-0.1566+0.2246j  0.11  -0.1638j -0.4212+0.1836j  0.8188+0.068j ]]\n"
     ]
    }
   ],
   "source": [
    "S = prog_compiled.circuit[0].op.p[0]\n",
    "U = S[:4, :4] + 1j*S[4:, :4]\n",
    "print(U)"
   ]
  },
  {
   "cell_type": "code",
   "execution_count": 18,
   "id": "f7493031",
   "metadata": {},
   "outputs": [
    {
     "name": "stdout",
     "output_type": "stream",
     "text": [
      "Fock(1) | (q[0])\n",
      "Fock(1) | (q[1])\n",
      "Vac | (q[2])\n",
      "Fock(1) | (q[3])\n",
      "Rgate(-3.124) | (q[0])\n",
      "BSgate(0.9465, 0) | (q[0], q[1])\n",
      "Rgate(2.724) | (q[2])\n",
      "BSgate(0.09485, 0) | (q[2], q[3])\n",
      "Rgate(-0.9705) | (q[1])\n",
      "BSgate(0.7263, 0) | (q[1], q[2])\n",
      "Rgate(-1.788) | (q[0])\n",
      "BSgate(0.8246, 0) | (q[0], q[1])\n",
      "Rgate(5.343) | (q[0])\n",
      "Rgate(2.93) | (q[1])\n",
      "Rgate(3.133) | (q[2])\n",
      "Rgate(0.07904) | (q[3])\n",
      "BSgate(-0.533, 0) | (q[2], q[3])\n",
      "Rgate(2.45) | (q[2])\n",
      "BSgate(-0.03962, 0) | (q[1], q[2])\n",
      "Rgate(2.508) | (q[1])\n"
     ]
    }
   ],
   "source": [
    "boson_sampling = sf.Program(4)\n",
    "\n",
    "with boson_sampling.context as q:\n",
    "    # prepare the input fock states\n",
    "    Fock(1) | q[0]\n",
    "    Fock(1) | q[1]\n",
    "    Vac     | q[2]\n",
    "    Fock(1) | q[3]\n",
    "\n",
    "    Interferometer(U) | q\n",
    "    \n",
    "boson_sampling.compile(compiler=\"fock\").print()"
   ]
  },
  {
   "cell_type": "code",
   "execution_count": 24,
   "id": "02eb7aa9",
   "metadata": {},
   "outputs": [
    {
     "name": "stdout",
     "output_type": "stream",
     "text": [
      "0.17468916048563934\n",
      "0.10644192724642337\n",
      "0.10096860072466168\n"
     ]
    }
   ],
   "source": [
    "print(probs[1, 1, 0, 1])\n",
    "print(probs[2, 0, 0, 1])\n",
    "print(probs[1, 0, 2, 0])"
   ]
  },
  {
   "cell_type": "code",
   "execution_count": null,
   "id": "81993a04",
   "metadata": {},
   "outputs": [],
   "source": []
  },
  {
   "cell_type": "code",
   "execution_count": null,
   "id": "0cd2d933",
   "metadata": {},
   "outputs": [],
   "source": []
  }
 ],
 "metadata": {
  "kernelspec": {
   "display_name": "Python 3 (ipykernel)",
   "language": "python",
   "name": "python3"
  },
  "language_info": {
   "codemirror_mode": {
    "name": "ipython",
    "version": 3
   },
   "file_extension": ".py",
   "mimetype": "text/x-python",
   "name": "python",
   "nbconvert_exporter": "python",
   "pygments_lexer": "ipython3",
   "version": "3.9.7"
  }
 },
 "nbformat": 4,
 "nbformat_minor": 5
}
